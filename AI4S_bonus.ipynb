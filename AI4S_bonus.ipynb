{
 "cells": [
  {
   "cell_type": "markdown",
   "metadata": {},
   "source": [
    "# Artificial Intelligence for Security: bonus assignment\n",
    "\n",
    "##### by Alexander Stanimirov, S.M., D.F., L.C."
   ]
  },
  {
   "cell_type": "markdown",
   "metadata": {},
   "source": [
    "<div class=\"alert alert-block alert-success\">\n",
    "The dataset used in this assignment has to do with Android malware detection. We will mainly look at feature selection.\n",
    "</div>"
   ]
  },
  {
   "cell_type": "code",
   "execution_count": 1,
   "metadata": {},
   "outputs": [],
   "source": [
    "import pandas as pd\n",
    "import numpy as np"
   ]
  },
  {
   "cell_type": "code",
   "execution_count": 2,
   "metadata": {},
   "outputs": [
    {
     "name": "stderr",
     "output_type": "stream",
     "text": [
      "C:\\Users\\Bearson\\Anaconda3\\lib\\site-packages\\IPython\\core\\interactiveshell.py:3051: DtypeWarning: Columns (92) have mixed types. Specify dtype option on import or set low_memory=False.\n",
      "  interactivity=interactivity, compiler=compiler, result=result)\n"
     ]
    }
   ],
   "source": [
    "file_path = \"path.csv\"\n",
    "df = pd.read_csv(file_path, header = 0)"
   ]
  },
  {
   "cell_type": "code",
   "execution_count": 3,
   "metadata": {},
   "outputs": [
    {
     "data": {
      "text/html": [
       "<div>\n",
       "<style scoped>\n",
       "    .dataframe tbody tr th:only-of-type {\n",
       "        vertical-align: middle;\n",
       "    }\n",
       "\n",
       "    .dataframe tbody tr th {\n",
       "        vertical-align: top;\n",
       "    }\n",
       "\n",
       "    .dataframe thead th {\n",
       "        text-align: right;\n",
       "    }\n",
       "</style>\n",
       "<table border=\"1\" class=\"dataframe\">\n",
       "  <thead>\n",
       "    <tr style=\"text-align: right;\">\n",
       "      <th></th>\n",
       "      <th>transact</th>\n",
       "      <th>onServiceConnected</th>\n",
       "      <th>bindService</th>\n",
       "      <th>attachInterface</th>\n",
       "      <th>ServiceConnection</th>\n",
       "      <th>android.os.Binder</th>\n",
       "      <th>SEND_SMS</th>\n",
       "      <th>Ljava.lang.Class.getCanonicalName</th>\n",
       "      <th>Ljava.lang.Class.getMethods</th>\n",
       "      <th>Ljava.lang.Class.cast</th>\n",
       "      <th>...</th>\n",
       "      <th>READ_CONTACTS</th>\n",
       "      <th>DEVICE_POWER</th>\n",
       "      <th>HARDWARE_TEST</th>\n",
       "      <th>ACCESS_WIFI_STATE</th>\n",
       "      <th>WRITE_EXTERNAL_STORAGE</th>\n",
       "      <th>ACCESS_FINE_LOCATION</th>\n",
       "      <th>SET_WALLPAPER_HINTS</th>\n",
       "      <th>SET_PREFERRED_APPLICATIONS</th>\n",
       "      <th>WRITE_SECURE_SETTINGS</th>\n",
       "      <th>class</th>\n",
       "    </tr>\n",
       "  </thead>\n",
       "  <tbody>\n",
       "    <tr>\n",
       "      <th>0</th>\n",
       "      <td>0</td>\n",
       "      <td>0</td>\n",
       "      <td>0</td>\n",
       "      <td>0</td>\n",
       "      <td>0</td>\n",
       "      <td>0</td>\n",
       "      <td>1</td>\n",
       "      <td>0</td>\n",
       "      <td>0</td>\n",
       "      <td>0</td>\n",
       "      <td>...</td>\n",
       "      <td>0</td>\n",
       "      <td>0</td>\n",
       "      <td>0</td>\n",
       "      <td>0</td>\n",
       "      <td>1</td>\n",
       "      <td>0</td>\n",
       "      <td>0</td>\n",
       "      <td>0</td>\n",
       "      <td>0</td>\n",
       "      <td>S</td>\n",
       "    </tr>\n",
       "    <tr>\n",
       "      <th>1</th>\n",
       "      <td>0</td>\n",
       "      <td>0</td>\n",
       "      <td>0</td>\n",
       "      <td>0</td>\n",
       "      <td>0</td>\n",
       "      <td>0</td>\n",
       "      <td>1</td>\n",
       "      <td>0</td>\n",
       "      <td>0</td>\n",
       "      <td>0</td>\n",
       "      <td>...</td>\n",
       "      <td>0</td>\n",
       "      <td>0</td>\n",
       "      <td>0</td>\n",
       "      <td>0</td>\n",
       "      <td>1</td>\n",
       "      <td>0</td>\n",
       "      <td>0</td>\n",
       "      <td>0</td>\n",
       "      <td>0</td>\n",
       "      <td>S</td>\n",
       "    </tr>\n",
       "    <tr>\n",
       "      <th>2</th>\n",
       "      <td>0</td>\n",
       "      <td>0</td>\n",
       "      <td>0</td>\n",
       "      <td>0</td>\n",
       "      <td>0</td>\n",
       "      <td>0</td>\n",
       "      <td>1</td>\n",
       "      <td>0</td>\n",
       "      <td>0</td>\n",
       "      <td>0</td>\n",
       "      <td>...</td>\n",
       "      <td>0</td>\n",
       "      <td>0</td>\n",
       "      <td>0</td>\n",
       "      <td>0</td>\n",
       "      <td>0</td>\n",
       "      <td>0</td>\n",
       "      <td>0</td>\n",
       "      <td>0</td>\n",
       "      <td>0</td>\n",
       "      <td>S</td>\n",
       "    </tr>\n",
       "    <tr>\n",
       "      <th>3</th>\n",
       "      <td>0</td>\n",
       "      <td>0</td>\n",
       "      <td>0</td>\n",
       "      <td>0</td>\n",
       "      <td>0</td>\n",
       "      <td>0</td>\n",
       "      <td>0</td>\n",
       "      <td>0</td>\n",
       "      <td>0</td>\n",
       "      <td>1</td>\n",
       "      <td>...</td>\n",
       "      <td>0</td>\n",
       "      <td>0</td>\n",
       "      <td>0</td>\n",
       "      <td>1</td>\n",
       "      <td>1</td>\n",
       "      <td>1</td>\n",
       "      <td>0</td>\n",
       "      <td>0</td>\n",
       "      <td>0</td>\n",
       "      <td>S</td>\n",
       "    </tr>\n",
       "    <tr>\n",
       "      <th>4</th>\n",
       "      <td>0</td>\n",
       "      <td>0</td>\n",
       "      <td>0</td>\n",
       "      <td>0</td>\n",
       "      <td>0</td>\n",
       "      <td>0</td>\n",
       "      <td>0</td>\n",
       "      <td>0</td>\n",
       "      <td>0</td>\n",
       "      <td>0</td>\n",
       "      <td>...</td>\n",
       "      <td>0</td>\n",
       "      <td>0</td>\n",
       "      <td>0</td>\n",
       "      <td>1</td>\n",
       "      <td>0</td>\n",
       "      <td>1</td>\n",
       "      <td>0</td>\n",
       "      <td>0</td>\n",
       "      <td>0</td>\n",
       "      <td>S</td>\n",
       "    </tr>\n",
       "    <tr>\n",
       "      <th>5</th>\n",
       "      <td>0</td>\n",
       "      <td>0</td>\n",
       "      <td>0</td>\n",
       "      <td>0</td>\n",
       "      <td>0</td>\n",
       "      <td>0</td>\n",
       "      <td>0</td>\n",
       "      <td>0</td>\n",
       "      <td>0</td>\n",
       "      <td>0</td>\n",
       "      <td>...</td>\n",
       "      <td>0</td>\n",
       "      <td>0</td>\n",
       "      <td>0</td>\n",
       "      <td>1</td>\n",
       "      <td>1</td>\n",
       "      <td>0</td>\n",
       "      <td>0</td>\n",
       "      <td>0</td>\n",
       "      <td>0</td>\n",
       "      <td>S</td>\n",
       "    </tr>\n",
       "    <tr>\n",
       "      <th>6</th>\n",
       "      <td>0</td>\n",
       "      <td>1</td>\n",
       "      <td>1</td>\n",
       "      <td>0</td>\n",
       "      <td>1</td>\n",
       "      <td>1</td>\n",
       "      <td>0</td>\n",
       "      <td>0</td>\n",
       "      <td>0</td>\n",
       "      <td>0</td>\n",
       "      <td>...</td>\n",
       "      <td>0</td>\n",
       "      <td>0</td>\n",
       "      <td>0</td>\n",
       "      <td>0</td>\n",
       "      <td>1</td>\n",
       "      <td>0</td>\n",
       "      <td>0</td>\n",
       "      <td>0</td>\n",
       "      <td>0</td>\n",
       "      <td>S</td>\n",
       "    </tr>\n",
       "    <tr>\n",
       "      <th>7</th>\n",
       "      <td>0</td>\n",
       "      <td>0</td>\n",
       "      <td>0</td>\n",
       "      <td>0</td>\n",
       "      <td>0</td>\n",
       "      <td>0</td>\n",
       "      <td>0</td>\n",
       "      <td>0</td>\n",
       "      <td>0</td>\n",
       "      <td>1</td>\n",
       "      <td>...</td>\n",
       "      <td>0</td>\n",
       "      <td>0</td>\n",
       "      <td>0</td>\n",
       "      <td>1</td>\n",
       "      <td>1</td>\n",
       "      <td>1</td>\n",
       "      <td>0</td>\n",
       "      <td>0</td>\n",
       "      <td>0</td>\n",
       "      <td>S</td>\n",
       "    </tr>\n",
       "    <tr>\n",
       "      <th>8</th>\n",
       "      <td>0</td>\n",
       "      <td>0</td>\n",
       "      <td>0</td>\n",
       "      <td>0</td>\n",
       "      <td>0</td>\n",
       "      <td>0</td>\n",
       "      <td>1</td>\n",
       "      <td>0</td>\n",
       "      <td>0</td>\n",
       "      <td>0</td>\n",
       "      <td>...</td>\n",
       "      <td>1</td>\n",
       "      <td>0</td>\n",
       "      <td>0</td>\n",
       "      <td>0</td>\n",
       "      <td>1</td>\n",
       "      <td>0</td>\n",
       "      <td>0</td>\n",
       "      <td>0</td>\n",
       "      <td>0</td>\n",
       "      <td>S</td>\n",
       "    </tr>\n",
       "    <tr>\n",
       "      <th>9</th>\n",
       "      <td>0</td>\n",
       "      <td>0</td>\n",
       "      <td>0</td>\n",
       "      <td>0</td>\n",
       "      <td>0</td>\n",
       "      <td>0</td>\n",
       "      <td>1</td>\n",
       "      <td>0</td>\n",
       "      <td>0</td>\n",
       "      <td>0</td>\n",
       "      <td>...</td>\n",
       "      <td>0</td>\n",
       "      <td>0</td>\n",
       "      <td>0</td>\n",
       "      <td>1</td>\n",
       "      <td>1</td>\n",
       "      <td>0</td>\n",
       "      <td>0</td>\n",
       "      <td>0</td>\n",
       "      <td>0</td>\n",
       "      <td>S</td>\n",
       "    </tr>\n",
       "  </tbody>\n",
       "</table>\n",
       "<p>10 rows × 216 columns</p>\n",
       "</div>"
      ],
      "text/plain": [
       "   transact  onServiceConnected  bindService  attachInterface  \\\n",
       "0         0                   0            0                0   \n",
       "1         0                   0            0                0   \n",
       "2         0                   0            0                0   \n",
       "3         0                   0            0                0   \n",
       "4         0                   0            0                0   \n",
       "5         0                   0            0                0   \n",
       "6         0                   1            1                0   \n",
       "7         0                   0            0                0   \n",
       "8         0                   0            0                0   \n",
       "9         0                   0            0                0   \n",
       "\n",
       "   ServiceConnection  android.os.Binder  SEND_SMS  \\\n",
       "0                  0                  0         1   \n",
       "1                  0                  0         1   \n",
       "2                  0                  0         1   \n",
       "3                  0                  0         0   \n",
       "4                  0                  0         0   \n",
       "5                  0                  0         0   \n",
       "6                  1                  1         0   \n",
       "7                  0                  0         0   \n",
       "8                  0                  0         1   \n",
       "9                  0                  0         1   \n",
       "\n",
       "   Ljava.lang.Class.getCanonicalName  Ljava.lang.Class.getMethods  \\\n",
       "0                                  0                            0   \n",
       "1                                  0                            0   \n",
       "2                                  0                            0   \n",
       "3                                  0                            0   \n",
       "4                                  0                            0   \n",
       "5                                  0                            0   \n",
       "6                                  0                            0   \n",
       "7                                  0                            0   \n",
       "8                                  0                            0   \n",
       "9                                  0                            0   \n",
       "\n",
       "   Ljava.lang.Class.cast  ...  READ_CONTACTS  DEVICE_POWER  HARDWARE_TEST  \\\n",
       "0                      0  ...              0             0              0   \n",
       "1                      0  ...              0             0              0   \n",
       "2                      0  ...              0             0              0   \n",
       "3                      1  ...              0             0              0   \n",
       "4                      0  ...              0             0              0   \n",
       "5                      0  ...              0             0              0   \n",
       "6                      0  ...              0             0              0   \n",
       "7                      1  ...              0             0              0   \n",
       "8                      0  ...              1             0              0   \n",
       "9                      0  ...              0             0              0   \n",
       "\n",
       "   ACCESS_WIFI_STATE  WRITE_EXTERNAL_STORAGE  ACCESS_FINE_LOCATION  \\\n",
       "0                  0                       1                     0   \n",
       "1                  0                       1                     0   \n",
       "2                  0                       0                     0   \n",
       "3                  1                       1                     1   \n",
       "4                  1                       0                     1   \n",
       "5                  1                       1                     0   \n",
       "6                  0                       1                     0   \n",
       "7                  1                       1                     1   \n",
       "8                  0                       1                     0   \n",
       "9                  1                       1                     0   \n",
       "\n",
       "   SET_WALLPAPER_HINTS  SET_PREFERRED_APPLICATIONS  WRITE_SECURE_SETTINGS  \\\n",
       "0                    0                           0                      0   \n",
       "1                    0                           0                      0   \n",
       "2                    0                           0                      0   \n",
       "3                    0                           0                      0   \n",
       "4                    0                           0                      0   \n",
       "5                    0                           0                      0   \n",
       "6                    0                           0                      0   \n",
       "7                    0                           0                      0   \n",
       "8                    0                           0                      0   \n",
       "9                    0                           0                      0   \n",
       "\n",
       "   class  \n",
       "0      S  \n",
       "1      S  \n",
       "2      S  \n",
       "3      S  \n",
       "4      S  \n",
       "5      S  \n",
       "6      S  \n",
       "7      S  \n",
       "8      S  \n",
       "9      S  \n",
       "\n",
       "[10 rows x 216 columns]"
      ]
     },
     "execution_count": 3,
     "metadata": {},
     "output_type": "execute_result"
    }
   ],
   "source": [
    "df.head(10)"
   ]
  },
  {
   "cell_type": "code",
   "execution_count": 4,
   "metadata": {},
   "outputs": [
    {
     "data": {
      "text/plain": [
       "(15036, 216)"
      ]
     },
     "execution_count": 4,
     "metadata": {},
     "output_type": "execute_result"
    }
   ],
   "source": [
    "df.shape"
   ]
  },
  {
   "cell_type": "code",
   "execution_count": 5,
   "metadata": {},
   "outputs": [
    {
     "data": {
      "text/plain": [
       "transact                       int64\n",
       "onServiceConnected             int64\n",
       "bindService                    int64\n",
       "attachInterface                int64\n",
       "ServiceConnection              int64\n",
       "                               ...  \n",
       "ACCESS_FINE_LOCATION           int64\n",
       "SET_WALLPAPER_HINTS            int64\n",
       "SET_PREFERRED_APPLICATIONS     int64\n",
       "WRITE_SECURE_SETTINGS          int64\n",
       "class                         object\n",
       "Length: 216, dtype: object"
      ]
     },
     "execution_count": 5,
     "metadata": {},
     "output_type": "execute_result"
    }
   ],
   "source": [
    "df.dtypes"
   ]
  },
  {
   "cell_type": "code",
   "execution_count": 6,
   "metadata": {},
   "outputs": [
    {
     "data": {
      "text/plain": [
       "Index(['transact', 'onServiceConnected', 'bindService', 'attachInterface',\n",
       "       'ServiceConnection', 'android.os.Binder', 'SEND_SMS',\n",
       "       'Ljava.lang.Class.getCanonicalName', 'Ljava.lang.Class.getMethods',\n",
       "       'Ljava.lang.Class.cast',\n",
       "       ...\n",
       "       'READ_CONTACTS', 'DEVICE_POWER', 'HARDWARE_TEST', 'ACCESS_WIFI_STATE',\n",
       "       'WRITE_EXTERNAL_STORAGE', 'ACCESS_FINE_LOCATION', 'SET_WALLPAPER_HINTS',\n",
       "       'SET_PREFERRED_APPLICATIONS', 'WRITE_SECURE_SETTINGS', 'class'],\n",
       "      dtype='object', length=216)"
      ]
     },
     "execution_count": 6,
     "metadata": {},
     "output_type": "execute_result"
    }
   ],
   "source": [
    "df.columns"
   ]
  },
  {
   "cell_type": "code",
   "execution_count": 7,
   "metadata": {},
   "outputs": [
    {
     "data": {
      "text/plain": [
       "B    9476\n",
       "S    5560\n",
       "Name: class, dtype: int64"
      ]
     },
     "execution_count": 7,
     "metadata": {},
     "output_type": "execute_result"
    }
   ],
   "source": [
    "df['class'].value_counts()"
   ]
  },
  {
   "cell_type": "markdown",
   "metadata": {},
   "source": [
    "<div class=\"alert alert-block alert-success\">\n",
    "At first glance, we seem to be dealing with a medium-sized dataset consisting of a high amount of features (215) describing with a 0 (false) or 1 (true) whether or not there was some app permission (e.g. READ_CONTACTS) enabled or some Java method used, among other actions. Let's quickly verify that all columns contain just zeroes and ones.\n",
    "</div>"
   ]
  },
  {
   "cell_type": "code",
   "execution_count": 8,
   "metadata": {},
   "outputs": [
    {
     "name": "stdout",
     "output_type": "stream",
     "text": [
      "  TelephonyManager.getSimCountryIso  count\n",
      "0                                 0   5514\n",
      "1                                 1   1330\n",
      "2                                 0   6994\n",
      "3                                 1   1193\n",
      "4                                 ?      5\n",
      "  class  count\n",
      "0     B   9476\n",
      "1     S   5560\n"
     ]
    }
   ],
   "source": [
    "for col in df.columns:\n",
    "    df_grouped = df.groupby(col).size().reset_index(name='count')\n",
    "    bools = {0, 1}\n",
    "    if len(df_grouped[col].values) > 0 and len(set(df_grouped[col].values) - bools) > 0:\n",
    "        print(df_grouped)"
   ]
  },
  {
   "cell_type": "markdown",
   "metadata": {},
   "source": [
    "<div class=\"alert alert-block alert-success\">\n",
    "Only this column has some unexpected values: 1s and 0s as strings and 5 '?' values. We will change them appropriately instead of dropping the column outright - the few instances of ? could be changed to 0.\n",
    "</div>"
   ]
  },
  {
   "cell_type": "code",
   "execution_count": 9,
   "metadata": {},
   "outputs": [],
   "source": [
    "df['TelephonyManager.getSimCountryIso'] = df['TelephonyManager.getSimCountryIso'].apply(lambda x: 1 if x == '1' else 0)"
   ]
  },
  {
   "cell_type": "code",
   "execution_count": 10,
   "metadata": {},
   "outputs": [
    {
     "data": {
      "text/plain": [
       "0    13843\n",
       "1     1193\n",
       "Name: TelephonyManager.getSimCountryIso, dtype: int64"
      ]
     },
     "execution_count": 10,
     "metadata": {},
     "output_type": "execute_result"
    }
   ],
   "source": [
    "df['TelephonyManager.getSimCountryIso'].value_counts()"
   ]
  },
  {
   "cell_type": "markdown",
   "metadata": {},
   "source": [
    "<div class=\"alert alert-block alert-success\">\n",
    "How could we go about trimming down the number of features before doing classification?\n",
    "</div>"
   ]
  },
  {
   "cell_type": "code",
   "execution_count": 11,
   "metadata": {},
   "outputs": [],
   "source": [
    "from sklearn.feature_selection import VarianceThreshold"
   ]
  },
  {
   "cell_type": "code",
   "execution_count": 12,
   "metadata": {},
   "outputs": [],
   "source": [
    "X = df.drop('class', axis = 1)"
   ]
  },
  {
   "cell_type": "markdown",
   "metadata": {},
   "source": [
    "<div class=\"alert alert-block alert-success\">\n",
    "Using VarianceThreshold as below is very convenient with boolean features, as the threshold we want is just the variance p(1-p), where we choose p such that very low variance features are removed, but also to simply limit the number of features for classification overall.\n",
    "</div>"
   ]
  },
  {
   "cell_type": "code",
   "execution_count": 13,
   "metadata": {},
   "outputs": [],
   "source": [
    "sel = VarianceThreshold(threshold=(.65 * (1 - .65)))\n",
    "X = sel.fit_transform(X)\n",
    "sel.fit_transform(df.drop('class', axis = 1))\n",
    "X_cols = df[df.columns[sel.get_support(indices=True)]].columns\n",
    "\n",
    "# We end up choosing p = 0.65, so remove all the columns that are either 1 or 0 in > 65% of samples."
   ]
  },
  {
   "cell_type": "code",
   "execution_count": 14,
   "metadata": {},
   "outputs": [
    {
     "data": {
      "text/plain": [
       "34"
      ]
     },
     "execution_count": 14,
     "metadata": {},
     "output_type": "execute_result"
    }
   ],
   "source": [
    "len(X_cols)"
   ]
  },
  {
   "cell_type": "code",
   "execution_count": 15,
   "metadata": {},
   "outputs": [],
   "source": [
    "X = pd.DataFrame(data=X[0:,0:], columns=X_cols[0:])"
   ]
  },
  {
   "cell_type": "code",
   "execution_count": 16,
   "metadata": {},
   "outputs": [
    {
     "data": {
      "text/plain": [
       "array([ True,  True,  True,  True,  True,  True,  True,  True,  True,\n",
       "        True,  True,  True,  True,  True,  True,  True,  True,  True,\n",
       "        True,  True,  True,  True,  True,  True,  True,  True,  True,\n",
       "        True,  True,  True,  True,  True,  True,  True])"
      ]
     },
     "execution_count": 16,
     "metadata": {},
     "output_type": "execute_result"
    }
   ],
   "source": [
    "# quick check\n",
    "X.columns == X_cols"
   ]
  },
  {
   "cell_type": "markdown",
   "metadata": {},
   "source": [
    "<div class=\"alert alert-block alert-success\">\n",
    "Onto some classification with our first subset of features.\n",
    "</div>"
   ]
  },
  {
   "cell_type": "code",
   "execution_count": 17,
   "metadata": {},
   "outputs": [],
   "source": [
    "from sklearn.model_selection import train_test_split\n",
    "from sklearn.naive_bayes import GaussianNB\n",
    "from sklearn.tree import DecisionTreeClassifier\n",
    "from sklearn.ensemble import RandomForestClassifier\n",
    "from sklearn.svm import SVC\n",
    "from sklearn.linear_model import LogisticRegression"
   ]
  },
  {
   "cell_type": "code",
   "execution_count": 18,
   "metadata": {},
   "outputs": [],
   "source": [
    "from sklearn.metrics import accuracy_score, recall_score, precision_score, confusion_matrix\n",
    "from sklearn.utils import resample\n",
    "from sklearn.preprocessing import StandardScaler"
   ]
  },
  {
   "cell_type": "code",
   "execution_count": 19,
   "metadata": {},
   "outputs": [],
   "source": [
    "import time"
   ]
  },
  {
   "cell_type": "code",
   "execution_count": 20,
   "metadata": {},
   "outputs": [],
   "source": [
    "df['class'] = df['class'].apply(lambda x: 0 if x == 'B' else 1)"
   ]
  },
  {
   "cell_type": "code",
   "execution_count": 21,
   "metadata": {},
   "outputs": [
    {
     "data": {
      "text/plain": [
       "0    9476\n",
       "1    5560\n",
       "Name: class, dtype: int64"
      ]
     },
     "execution_count": 21,
     "metadata": {},
     "output_type": "execute_result"
    }
   ],
   "source": [
    "df['class'].value_counts()"
   ]
  },
  {
   "cell_type": "code",
   "execution_count": 22,
   "metadata": {},
   "outputs": [],
   "source": [
    "def predict(model, X_test):\n",
    "    return model.predict(X_test)\n",
    "\n",
    "def evaluate(prediction, y_test):\n",
    "    a = accuracy_score(prediction, y_test)\n",
    "    p = precision_score(prediction, y_test)\n",
    "    r = recall_score(prediction, y_test)\n",
    "    c = confusion_matrix(y_test, prediction, labels=[0, 1])\n",
    "    print(\"Accuracy: \", a, \"\\nPrecision: \", p, \"\\nRecall: \", r, \"\\nConfusion matrix:\\n\", c)\n",
    "\n",
    "def train_logistic_regression(X_train, y_train):\n",
    "    lr = LogisticRegression(solver = 'lbfgs', max_iter = 1000)\n",
    "    t0 = time.time()\n",
    "    lr.fit(X_train, y_train)\n",
    "    print(\"time to train = %.2f\" % (time.time()-t0))\n",
    "    return lr\n",
    "\n",
    "def train_naive_bayes(X_train, y_train):\n",
    "    nb = GaussianNB()\n",
    "    t0 = time.time()\n",
    "    nb.fit(X_train, y_train)\n",
    "    print(\"time to train = %.2f\" % (time.time()-t0))\n",
    "    return nb\n",
    "\n",
    "def train_decision_tree(X_train, y_train):\n",
    "    dt = DecisionTreeClassifier()\n",
    "    t0 = time.time()\n",
    "    dt.fit(X_train, y_train)\n",
    "    print(\"time to train = %.2f\" % (time.time()-t0))\n",
    "    return dt\n",
    "\n",
    "def train_random_forest(X_train, y_train):\n",
    "    rf = RandomForestClassifier(n_estimators = 20)\n",
    "    t0 = time.time()\n",
    "    rf.fit(X_train, y_train)\n",
    "    print(\"time to train = %.2f\" % (time.time()-t0))\n",
    "    return rf\n",
    "\n",
    "def train_svm(X_train, y_train):\n",
    "    svm = SVC()\n",
    "    t0 = time.time()\n",
    "    svm.fit(X_train, y_train)\n",
    "    print(\"time to train = %.2f\" % (time.time()-t0))\n",
    "    return svm"
   ]
  },
  {
   "cell_type": "code",
   "execution_count": 23,
   "metadata": {},
   "outputs": [],
   "source": [
    "X_train, X_test, y_train, y_test = train_test_split(X, df['class'], test_size = 0.3)"
   ]
  },
  {
   "cell_type": "code",
   "execution_count": 24,
   "metadata": {},
   "outputs": [
    {
     "name": "stdout",
     "output_type": "stream",
     "text": [
      "LOGISTIC REGRESSION\n",
      "\n",
      "Training data performance:\n",
      "time to train = 0.18\n",
      "Accuracy:  0.9006872090445578 \n",
      "Precision:  0.8549848942598187 \n",
      "Recall:  0.8718422674060382 \n",
      "Confusion matrix:\n",
      " [[2648  208]\n",
      " [ 240 1415]]\n"
     ]
    }
   ],
   "source": [
    "print(\"LOGISTIC REGRESSION\\n\")\n",
    "print(\"Training data performance:\")\n",
    "logistic_regression = train_logistic_regression(X_train, y_train)\n",
    "evaluate(predict(logistic_regression, X_test), y_test)"
   ]
  },
  {
   "cell_type": "code",
   "execution_count": 25,
   "metadata": {},
   "outputs": [
    {
     "name": "stdout",
     "output_type": "stream",
     "text": [
      "RANDOM FOREST\n",
      "\n",
      "Training data performance:\n",
      "time to train = 0.02\n",
      "Accuracy:  0.7827532697849701 \n",
      "Precision:  0.8942598187311178 \n",
      "Recall:  0.6477024070021882 \n",
      "Confusion matrix:\n",
      " [[2051  805]\n",
      " [ 175 1480]]\n"
     ]
    }
   ],
   "source": [
    "print(\"RANDOM FOREST\\n\")\n",
    "print(\"Training data performance:\")\n",
    "naive_bayes = train_naive_bayes(X_train, y_train)\n",
    "evaluate(predict(naive_bayes, X_test), y_test)"
   ]
  },
  {
   "cell_type": "code",
   "execution_count": 26,
   "metadata": {},
   "outputs": [
    {
     "name": "stdout",
     "output_type": "stream",
     "text": [
      "DECISION TREE\n",
      "\n",
      "Training data performance:\n",
      "time to train = 0.07\n",
      "Accuracy:  0.950565284859233 \n",
      "Precision:  0.923262839879154 \n",
      "Recall:  0.9408866995073891 \n",
      "Confusion matrix:\n",
      " [[2760   96]\n",
      " [ 127 1528]]\n"
     ]
    }
   ],
   "source": [
    "print(\"DECISION TREE\\n\")\n",
    "print(\"Training data performance:\")\n",
    "decision_tree = train_decision_tree(X_train, y_train)\n",
    "evaluate(predict(decision_tree, X_test), y_test)"
   ]
  },
  {
   "cell_type": "code",
   "execution_count": 27,
   "metadata": {},
   "outputs": [
    {
     "name": "stdout",
     "output_type": "stream",
     "text": [
      "RANDOM FOREST\n",
      "\n",
      "Training data performance:\n",
      "time to train = 0.34\n",
      "Accuracy:  0.9609842606960762 \n",
      "Precision:  0.9256797583081571 \n",
      "Recall:  0.9665615141955836 \n",
      "Confusion matrix:\n",
      " [[2803   53]\n",
      " [ 123 1532]]\n"
     ]
    }
   ],
   "source": [
    "print(\"RANDOM FOREST\\n\")\n",
    "print(\"Training data performance:\")\n",
    "random_forest = train_random_forest(X_train, y_train)\n",
    "evaluate(predict(random_forest, X_test), y_test)"
   ]
  },
  {
   "cell_type": "code",
   "execution_count": 28,
   "metadata": {},
   "outputs": [
    {
     "name": "stdout",
     "output_type": "stream",
     "text": [
      "SUPPORT VECTOR MACHINE\n",
      "\n",
      "Training data performance:\n"
     ]
    },
    {
     "name": "stderr",
     "output_type": "stream",
     "text": [
      "C:\\Users\\Bearson\\Anaconda3\\lib\\site-packages\\sklearn\\svm\\base.py:193: FutureWarning: The default value of gamma will change from 'auto' to 'scale' in version 0.22 to account better for unscaled features. Set gamma explicitly to 'auto' or 'scale' to avoid this warning.\n",
      "  \"avoid this warning.\", FutureWarning)\n"
     ]
    },
    {
     "name": "stdout",
     "output_type": "stream",
     "text": [
      "time to train = 3.60\n",
      "Accuracy:  0.9177565949900244 \n",
      "Precision:  0.8652567975830816 \n",
      "Recall:  0.9063291139240506 \n",
      "Confusion matrix:\n",
      " [[2708  148]\n",
      " [ 223 1432]]\n"
     ]
    }
   ],
   "source": [
    "print(\"SUPPORT VECTOR MACHINE\\n\")\n",
    "print(\"Training data performance:\")\n",
    "svm = train_svm(X_train, y_train)\n",
    "evaluate(predict(svm, X_test), y_test)"
   ]
  },
  {
   "cell_type": "markdown",
   "metadata": {},
   "source": [
    "<div class=\"alert alert-block alert-success\">\n",
    "Some decent first results, but we believe we can do better. To help us with that, first let's take a look at which categories of features have the biggest impact on performance. The other provided sheet gives us the category-feature mappings.\n",
    "</div>"
   ]
  },
  {
   "cell_type": "code",
   "execution_count": 29,
   "metadata": {},
   "outputs": [],
   "source": [
    "file_path_categs = \"C:/Users/Bearson/Desktop/Cyber Risk material/Artificial Intelligence for Security/data/data/AndroidMalware/dataset-features-categories.csv\"\n",
    "df_c = pd.read_csv(file_path_categs, names=['attribute', 'category'])"
   ]
  },
  {
   "cell_type": "code",
   "execution_count": 30,
   "metadata": {},
   "outputs": [
    {
     "data": {
      "text/plain": [
       "(216, 2)"
      ]
     },
     "execution_count": 30,
     "metadata": {},
     "output_type": "execute_result"
    }
   ],
   "source": [
    "df_c.shape"
   ]
  },
  {
   "cell_type": "code",
   "execution_count": 31,
   "metadata": {},
   "outputs": [
    {
     "data": {
      "text/plain": [
       "array(['API call signature', 'Manifest Permission', 'Intent',\n",
       "       'Commands signature', 'B=Benign; S=Malware'], dtype=object)"
      ]
     },
     "execution_count": 31,
     "metadata": {},
     "output_type": "execute_result"
    }
   ],
   "source": [
    "df_c['category'].unique()\n",
    "# last one is irrelevant"
   ]
  },
  {
   "cell_type": "code",
   "execution_count": 32,
   "metadata": {},
   "outputs": [],
   "source": [
    "df_api = df_c[df_c['category'] == 'API call signature']['attribute']"
   ]
  },
  {
   "cell_type": "code",
   "execution_count": 33,
   "metadata": {},
   "outputs": [
    {
     "name": "stdout",
     "output_type": "stream",
     "text": [
      "73\n",
      "['transact' 'onServiceConnected' 'bindService' 'attachInterface'\n",
      " 'ServiceConnection' 'android.os.Binder'\n",
      " 'Ljava.lang.Class.getCanonicalName' 'Ljava.lang.Class.getMethods'\n",
      " 'Ljava.lang.Class.cast' 'Ljava.net.URLDecoder'\n",
      " 'android.content.pm.Signature' 'android.telephony.SmsManager' 'getBinder'\n",
      " 'ClassLoader' 'Landroid.content.Context.registerReceiver'\n",
      " 'Ljava.lang.Class.getField' 'Landroid.content.Context.unregisterReceiver'\n",
      " 'Ljava.lang.Class.getDeclaredField' 'getCallingUid'\n",
      " 'Ljavax.crypto.spec.SecretKeySpec' 'android.content.pm.PackageInfo'\n",
      " 'KeySpec' 'TelephonyManager.getLine1Number' 'DexClassLoader'\n",
      " 'HttpGet.init' 'SecretKey' 'Ljava.lang.Class.getMethod'\n",
      " 'System.loadLibrary' 'android.intent.action.SEND' 'Ljavax.crypto.Cipher'\n",
      " 'android.telephony.gsm.SmsManager' 'TelephonyManager.getSubscriberId'\n",
      " 'Runtime.getRuntime' 'Ljava.lang.Object.getClass'\n",
      " 'Ljava.lang.Class.forName' 'Binder' 'IBinder' 'android.os.IBinder'\n",
      " 'createSubprocess' 'URLClassLoader' 'abortBroadcast'\n",
      " 'TelephonyManager.getDeviceId' 'getCallingPid'\n",
      " 'Ljava.lang.Class.getPackage' 'Ljava.lang.Class.getDeclaredClasses'\n",
      " 'PathClassLoader' 'TelephonyManager.getSimSerialNumber' 'Runtime.load'\n",
      " 'TelephonyManager.getCallState' 'TelephonyManager.getSimCountryIso'\n",
      " 'sendMultipartTextMessage' 'PackageInstaller' 'sendDataMessage'\n",
      " 'HttpPost.init' 'Ljava.lang.Class.getClasses'\n",
      " 'TelephonyManager.isNetworkRoaming' 'HttpUriRequest' 'divideMessage'\n",
      " 'Runtime.exec' 'TelephonyManager.getNetworkOperator' 'MessengerService'\n",
      " 'IRemoteService' 'SET_ALARM' 'ACCOUNT_MANAGER'\n",
      " 'TelephonyManager.getSimOperator' 'onBind' 'Process.start'\n",
      " 'Context.bindService' 'ProcessBuilder' 'Ljava.lang.Class.getResource'\n",
      " 'defineClass' 'findClass' 'Runtime.loadLibrary']\n"
     ]
    }
   ],
   "source": [
    "print(len(np.array(df_api)))\n",
    "print(np.array(df_api))"
   ]
  },
  {
   "cell_type": "code",
   "execution_count": 34,
   "metadata": {},
   "outputs": [],
   "source": [
    "df_manifest = df_c[df_c['category'] == 'Manifest Permission']['attribute']"
   ]
  },
  {
   "cell_type": "code",
   "execution_count": 35,
   "metadata": {},
   "outputs": [
    {
     "name": "stdout",
     "output_type": "stream",
     "text": [
      "113\n",
      "['SEND_SMS' 'READ_PHONE_STATE' 'GET_ACCOUNTS' 'RECEIVE_SMS' 'READ_SMS'\n",
      " 'USE_CREDENTIALS' 'MANAGE_ACCOUNTS' 'WRITE_SMS' 'READ_SYNC_SETTINGS'\n",
      " 'AUTHENTICATE_ACCOUNTS' 'WRITE_HISTORY_BOOKMARKS' 'INSTALL_PACKAGES'\n",
      " 'CAMERA' 'WRITE_SYNC_SETTINGS' 'READ_HISTORY_BOOKMARKS' 'INTERNET'\n",
      " 'RECORD_AUDIO' 'NFC' 'ACCESS_LOCATION_EXTRA_COMMANDS'\n",
      " 'WRITE_APN_SETTINGS' 'BIND_REMOTEVIEWS' 'READ_PROFILE'\n",
      " 'MODIFY_AUDIO_SETTINGS' 'READ_SYNC_STATS' 'BROADCAST_STICKY' 'WAKE_LOCK'\n",
      " 'RECEIVE_BOOT_COMPLETED' 'RESTART_PACKAGES' 'BLUETOOTH' 'READ_CALENDAR'\n",
      " 'READ_CALL_LOG' 'SUBSCRIBED_FEEDS_WRITE' 'READ_EXTERNAL_STORAGE'\n",
      " 'VIBRATE' 'ACCESS_NETWORK_STATE' 'SUBSCRIBED_FEEDS_READ'\n",
      " 'CHANGE_WIFI_MULTICAST_STATE' 'WRITE_CALENDAR' 'MASTER_CLEAR'\n",
      " 'UPDATE_DEVICE_STATS' 'WRITE_CALL_LOG' 'DELETE_PACKAGES' 'GET_TASKS'\n",
      " 'GLOBAL_SEARCH' 'DELETE_CACHE_FILES' 'WRITE_USER_DICTIONARY'\n",
      " 'REORDER_TASKS' 'WRITE_PROFILE' 'SET_WALLPAPER' 'BIND_INPUT_METHOD'\n",
      " 'READ_SOCIAL_STREAM' 'READ_USER_DICTIONARY' 'PROCESS_OUTGOING_CALLS'\n",
      " 'CALL_PRIVILEGED' 'BIND_WALLPAPER' 'RECEIVE_WAP_PUSH' 'DUMP'\n",
      " 'BATTERY_STATS' 'ACCESS_COARSE_LOCATION' 'SET_TIME' 'WRITE_SOCIAL_STREAM'\n",
      " 'WRITE_SETTINGS' 'REBOOT' 'BLUETOOTH_ADMIN' 'BIND_DEVICE_ADMIN'\n",
      " 'WRITE_GSERVICES' 'KILL_BACKGROUND_PROCESSES' 'STATUS_BAR'\n",
      " 'PERSISTENT_ACTIVITY' 'CHANGE_NETWORK_STATE' 'RECEIVE_MMS'\n",
      " 'SET_TIME_ZONE' 'CONTROL_LOCATION_UPDATES' 'BROADCAST_WAP_PUSH'\n",
      " 'BIND_ACCESSIBILITY_SERVICE' 'ADD_VOICEMAIL' 'CALL_PHONE'\n",
      " 'BIND_APPWIDGET' 'FLASHLIGHT' 'READ_LOGS' 'SET_PROCESS_LIMIT'\n",
      " 'MOUNT_UNMOUNT_FILESYSTEMS' 'BIND_TEXT_SERVICE'\n",
      " 'INSTALL_LOCATION_PROVIDER' 'SYSTEM_ALERT_WINDOW'\n",
      " 'MOUNT_FORMAT_FILESYSTEMS' 'CHANGE_CONFIGURATION' 'CLEAR_APP_USER_DATA'\n",
      " 'CHANGE_WIFI_STATE' 'READ_FRAME_BUFFER' 'ACCESS_SURFACE_FLINGER'\n",
      " 'BROADCAST_SMS' 'EXPAND_STATUS_BAR' 'INTERNAL_SYSTEM_WINDOW'\n",
      " 'SET_ACTIVITY_WATCHER' 'WRITE_CONTACTS' 'BIND_VPN_SERVICE'\n",
      " 'DISABLE_KEYGUARD' 'ACCESS_MOCK_LOCATION' 'GET_PACKAGE_SIZE'\n",
      " 'MODIFY_PHONE_STATE' 'CHANGE_COMPONENT_ENABLED_STATE' 'CLEAR_APP_CACHE'\n",
      " 'SET_ORIENTATION' 'READ_CONTACTS' 'DEVICE_POWER' 'HARDWARE_TEST'\n",
      " 'ACCESS_WIFI_STATE' 'WRITE_EXTERNAL_STORAGE' 'ACCESS_FINE_LOCATION'\n",
      " 'SET_WALLPAPER_HINTS' 'SET_PREFERRED_APPLICATIONS'\n",
      " 'WRITE_SECURE_SETTINGS']\n"
     ]
    }
   ],
   "source": [
    "print(len(np.array(df_manifest)))\n",
    "print(np.array(df_manifest))"
   ]
  },
  {
   "cell_type": "code",
   "execution_count": 36,
   "metadata": {},
   "outputs": [],
   "source": [
    "df_intent = df_c[df_c['category'] == 'Intent']['attribute']"
   ]
  },
  {
   "cell_type": "code",
   "execution_count": 37,
   "metadata": {},
   "outputs": [
    {
     "name": "stdout",
     "output_type": "stream",
     "text": [
      "23\n",
      "['android.intent.action.BOOT_COMPLETED'\n",
      " 'android.intent.action.PACKAGE_REPLACED'\n",
      " 'android.intent.action.SEND_MULTIPLE' 'android.intent.action.TIME_SET'\n",
      " 'android.intent.action.PACKAGE_REMOVED'\n",
      " 'android.intent.action.TIMEZONE_CHANGED'\n",
      " 'android.intent.action.ACTION_POWER_DISCONNECTED'\n",
      " 'android.intent.action.PACKAGE_ADDED'\n",
      " 'android.intent.action.ACTION_SHUTDOWN'\n",
      " 'android.intent.action.PACKAGE_DATA_CLEARED'\n",
      " 'android.intent.action.PACKAGE_CHANGED'\n",
      " 'android.intent.action.NEW_OUTGOING_CALL' 'android.intent.action.SENDTO'\n",
      " 'android.intent.action.CALL' 'android.intent.action.SCREEN_ON'\n",
      " 'android.intent.action.BATTERY_OKAY'\n",
      " 'android.intent.action.PACKAGE_RESTARTED'\n",
      " 'android.intent.action.CALL_BUTTON' 'android.intent.action.SCREEN_OFF'\n",
      " 'intent.action.RUN' 'android.intent.action.SET_WALLPAPER'\n",
      " 'android.intent.action.BATTERY_LOW'\n",
      " 'android.intent.action.ACTION_POWER_CONNECTED']\n"
     ]
    }
   ],
   "source": [
    "print(len(np.array(df_intent)))\n",
    "print(np.array(df_intent))"
   ]
  },
  {
   "cell_type": "code",
   "execution_count": 38,
   "metadata": {},
   "outputs": [],
   "source": [
    "df_commands = df_c[df_c['category'] == 'Commands signature']['attribute']"
   ]
  },
  {
   "cell_type": "code",
   "execution_count": 39,
   "metadata": {},
   "outputs": [
    {
     "name": "stdout",
     "output_type": "stream",
     "text": [
      "6\n",
      "['mount' 'chmod' 'remount' 'chown' '/system/bin' '/system/app']\n"
     ]
    }
   ],
   "source": [
    "print(len(np.array(df_commands)))\n",
    "print(np.array(df_commands))"
   ]
  },
  {
   "cell_type": "markdown",
   "metadata": {},
   "source": [
    "<div class=\"alert alert-block alert-success\">\n",
    "We could train some classifiers using just features from a certain category and see which one(s) perform best.\n",
    "</div>"
   ]
  },
  {
   "cell_type": "code",
   "execution_count": 40,
   "metadata": {},
   "outputs": [],
   "source": [
    "X_train, X_test, y_train, y_test = train_test_split(df[np.array(df_api)], df['class'], test_size = 0.3)"
   ]
  },
  {
   "cell_type": "code",
   "execution_count": 41,
   "metadata": {},
   "outputs": [
    {
     "name": "stdout",
     "output_type": "stream",
     "text": [
      "LOGISTIC REGRESSION\n",
      "\n",
      "Training data performance:\n",
      "time to train = 0.38\n",
      "Accuracy:  0.9598758590113057 \n",
      "Precision:  0.9265402843601895 \n",
      "Recall:  0.9648365206662554 \n",
      "Confusion matrix:\n",
      " [[2766   57]\n",
      " [ 124 1564]]\n"
     ]
    }
   ],
   "source": [
    "print(\"LOGISTIC REGRESSION\\n\")\n",
    "print(\"Training data performance:\")\n",
    "logistic_regression = train_logistic_regression(X_train, y_train)\n",
    "evaluate(predict(logistic_regression, X_test), y_test)"
   ]
  },
  {
   "cell_type": "code",
   "execution_count": 42,
   "metadata": {},
   "outputs": [
    {
     "name": "stdout",
     "output_type": "stream",
     "text": [
      "RANDOM FOREST\n",
      "\n",
      "Training data performance:\n",
      "time to train = 0.29\n",
      "Accuracy:  0.9769452449567724 \n",
      "Precision:  0.9508293838862559 \n",
      "Recall:  0.9870848708487084 \n",
      "Confusion matrix:\n",
      " [[2802   21]\n",
      " [  83 1605]]\n"
     ]
    }
   ],
   "source": [
    "print(\"RANDOM FOREST\\n\")\n",
    "print(\"Training data performance:\")\n",
    "random_forest = train_random_forest(X_train, y_train)\n",
    "evaluate(predict(random_forest, X_test), y_test)"
   ]
  },
  {
   "cell_type": "code",
   "execution_count": 43,
   "metadata": {},
   "outputs": [],
   "source": [
    "X_train, X_test, y_train, y_test = train_test_split(df[np.array(df_manifest)], df['class'], test_size = 0.3)"
   ]
  },
  {
   "cell_type": "code",
   "execution_count": 44,
   "metadata": {},
   "outputs": [
    {
     "name": "stdout",
     "output_type": "stream",
     "text": [
      "LOGISTIC REGRESSION\n",
      "\n",
      "Training data performance:\n",
      "time to train = 0.42\n",
      "Accuracy:  0.9235202837508313 \n",
      "Precision:  0.856892523364486 \n",
      "Recall:  0.9361837906828334 \n",
      "Confusion matrix:\n",
      " [[2699  100]\n",
      " [ 245 1467]]\n"
     ]
    }
   ],
   "source": [
    "print(\"LOGISTIC REGRESSION\\n\")\n",
    "print(\"Training data performance:\")\n",
    "logistic_regression = train_logistic_regression(X_train, y_train)\n",
    "evaluate(predict(logistic_regression, X_test), y_test)"
   ]
  },
  {
   "cell_type": "code",
   "execution_count": 45,
   "metadata": {},
   "outputs": [
    {
     "name": "stdout",
     "output_type": "stream",
     "text": [
      "RANDOM FOREST\n",
      "\n",
      "Training data performance:\n",
      "time to train = 0.41\n",
      "Accuracy:  0.9547772112613612 \n",
      "Precision:  0.9117990654205608 \n",
      "Recall:  0.9671623296158612 \n",
      "Confusion matrix:\n",
      " [[2746   53]\n",
      " [ 151 1561]]\n"
     ]
    }
   ],
   "source": [
    "print(\"RANDOM FOREST\\n\")\n",
    "print(\"Training data performance:\")\n",
    "random_forest = train_random_forest(X_train, y_train)\n",
    "evaluate(predict(random_forest, X_test), y_test)"
   ]
  },
  {
   "cell_type": "code",
   "execution_count": 46,
   "metadata": {},
   "outputs": [],
   "source": [
    "X_train, X_test, y_train, y_test = train_test_split(df[np.array(df_intent)], df['class'], test_size = 0.3)"
   ]
  },
  {
   "cell_type": "code",
   "execution_count": 47,
   "metadata": {},
   "outputs": [
    {
     "name": "stdout",
     "output_type": "stream",
     "text": [
      "LOGISTIC REGRESSION\n",
      "\n",
      "Training data performance:\n",
      "time to train = 0.14\n",
      "Accuracy:  0.7807581467523831 \n",
      "Precision:  0.6340579710144928 \n",
      "Recall:  0.732728541521284 \n",
      "Confusion matrix:\n",
      " [[2472  383]\n",
      " [ 606 1050]]\n"
     ]
    }
   ],
   "source": [
    "print(\"LOGISTIC REGRESSION\\n\")\n",
    "print(\"Training data performance:\")\n",
    "logistic_regression = train_logistic_regression(X_train, y_train)\n",
    "evaluate(predict(logistic_regression, X_test), y_test)"
   ]
  },
  {
   "cell_type": "code",
   "execution_count": 48,
   "metadata": {},
   "outputs": [
    {
     "name": "stdout",
     "output_type": "stream",
     "text": [
      "RANDOM FOREST\n",
      "\n",
      "Training data performance:\n",
      "time to train = 0.21\n",
      "Accuracy:  0.7936156062957216 \n",
      "Precision:  0.6467391304347826 \n",
      "Recall:  0.7558221594918842 \n",
      "Confusion matrix:\n",
      " [[2509  346]\n",
      " [ 585 1071]]\n"
     ]
    }
   ],
   "source": [
    "print(\"RANDOM FOREST\\n\")\n",
    "print(\"Training data performance:\")\n",
    "random_forest = train_random_forest(X_train, y_train)\n",
    "evaluate(predict(random_forest, X_test), y_test)"
   ]
  },
  {
   "cell_type": "code",
   "execution_count": 49,
   "metadata": {},
   "outputs": [],
   "source": [
    "X_train, X_test, y_train, y_test = train_test_split(df[np.array(df_commands)], df['class'], test_size = 0.3)"
   ]
  },
  {
   "cell_type": "code",
   "execution_count": 50,
   "metadata": {},
   "outputs": [
    {
     "name": "stdout",
     "output_type": "stream",
     "text": [
      "LOGISTIC REGRESSION\n",
      "\n",
      "Training data performance:\n",
      "time to train = 0.06\n",
      "Accuracy:  0.634449124362669 \n",
      "Precision:  0.6133567662565905 \n",
      "Recall:  0.5142436149312377 \n",
      "Confusion matrix:\n",
      " [[1815  989]\n",
      " [ 660 1047]]\n"
     ]
    }
   ],
   "source": [
    "print(\"LOGISTIC REGRESSION\\n\")\n",
    "print(\"Training data performance:\")\n",
    "logistic_regression = train_logistic_regression(X_train, y_train)\n",
    "evaluate(predict(logistic_regression, X_test), y_test)"
   ]
  },
  {
   "cell_type": "code",
   "execution_count": 51,
   "metadata": {
    "scrolled": true
   },
   "outputs": [
    {
     "name": "stdout",
     "output_type": "stream",
     "text": [
      "RANDOM FOREST\n",
      "\n",
      "Training data performance:\n",
      "time to train = 0.13\n",
      "Accuracy:  0.6670361338949236 \n",
      "Precision:  0.6625659050966608 \n",
      "Recall:  0.5498298492950899 \n",
      "Confusion matrix:\n",
      " [[1878  926]\n",
      " [ 576 1131]]\n"
     ]
    }
   ],
   "source": [
    "print(\"RANDOM FOREST\\n\")\n",
    "print(\"Training data performance:\")\n",
    "random_forest = train_random_forest(X_train, y_train)\n",
    "evaluate(predict(random_forest, X_test), y_test)"
   ]
  },
  {
   "cell_type": "markdown",
   "metadata": {},
   "source": [
    "<div class=\"alert alert-block alert-success\">\n",
    "The best category seems to be 'API call signature', only just beating 'Manifest Permission', which also contains 40 more features. However, we cannot yet say for sure that the other two categories, which have fewer features, are less important - it might be that specific subsets of features turn out to be the most predictive of the class. So we could try some more feature selection on increasingly larger subsets and see whether or not performance depends on just the category and if there is some \"cut-off\" point where classifier accuracy doesn't <i>substantially</i> improve by adding more and more features.\n",
    "</div>"
   ]
  },
  {
   "cell_type": "markdown",
   "metadata": {},
   "source": [
    "<div class=\"alert alert-block alert-success\">\n",
    "One way to reduce the number of features is through recursive feature elimination. RFE fits the model starting with all the features and eliminating the weakest features one-by-one (or by several at a time) until the best subset of features is attained. (Source: https://www.scikit-yb.org/en/latest/api/model_selection/rfecv.html)\n",
    "</div>"
   ]
  },
  {
   "cell_type": "code",
   "execution_count": 52,
   "metadata": {},
   "outputs": [],
   "source": [
    "from sklearn.model_selection import GridSearchCV\n",
    "from sklearn.pipeline import Pipeline\n",
    "from sklearn.feature_selection import RFE, SelectFromModel"
   ]
  },
  {
   "cell_type": "code",
   "execution_count": 53,
   "metadata": {},
   "outputs": [],
   "source": [
    "X = df.drop('class',axis=1)\n",
    "y = df['class']"
   ]
  },
  {
   "cell_type": "code",
   "execution_count": 54,
   "metadata": {},
   "outputs": [
    {
     "name": "stdout",
     "output_type": "stream",
     "text": [
      "Time to train RFE:  915.1621780395508\n"
     ]
    }
   ],
   "source": [
    "# Reduce feature count to 10\n",
    "\n",
    "t0 = time.time()\n",
    "rfe = RFE(SVC(kernel='linear'), 10, step=1)\n",
    "rfe = rfe.fit(X, y)\n",
    "print(\"Time to train RFE: \", time.time()-t0)\n",
    "\n",
    "# Could have used a larger step"
   ]
  },
  {
   "cell_type": "code",
   "execution_count": 55,
   "metadata": {},
   "outputs": [
    {
     "data": {
      "text/plain": [
       "array([142,   2,  84, 105,  80, 128,  10,   3, 115, 196,  19, 183,  31,\n",
       "        33, 101,  44, 179, 146,  17,  34, 188,  61,  63,   1,  30,  42,\n",
       "         1,  64, 182, 160,  26, 161,  87,  62, 116,  12,   9, 159,  93,\n",
       "       147, 184,   1,  68,  20, 178, 156,  70, 130, 107, 193,   8,  60,\n",
       "        32,   1, 177, 151, 169,  15, 143,  11,   1, 129,  27, 170,  96,\n",
       "         1,  51,  25,   5,  52, 176,  43,  53, 154,   1, 168, 180, 111,\n",
       "       195,   4, 126, 103, 141,  49, 153,   1, 144,  81, 190,  54,  36,\n",
       "       162,  47,   1,  37, 171,  35,  39, 127, 135,  94, 121, 123,  38,\n",
       "        50,  72,   7, 138,  92,  88,  58,  73, 174, 133,  28,  76, 150,\n",
       "       165,  69,  89, 201,  86, 125,  79, 205,  78, 109,  16,  48,  67,\n",
       "        74, 139,  24,  59, 108, 191, 200, 114, 167,  82,  66,  95, 197,\n",
       "        77,   1,  90, 112, 187, 202,  75,  99, 137,  22,  71,  18,  14,\n",
       "       206, 189, 204, 186, 100, 117,  21, 102,  57, 198, 110,  98,  83,\n",
       "       132, 158,  29, 157,   6, 164, 118, 155, 172, 104,  41,  91, 152,\n",
       "       120, 140,  13, 131,  85,  97,  46, 166, 203, 149, 136, 145, 122,\n",
       "       194,  23, 163, 199,  65, 113,  40,  55, 124, 192, 181, 175, 106,\n",
       "       173, 134, 185, 148, 119,  56,  45])"
      ]
     },
     "execution_count": 55,
     "metadata": {},
     "output_type": "execute_result"
    }
   ],
   "source": [
    "rfe.ranking_"
   ]
  },
  {
   "cell_type": "code",
   "execution_count": 57,
   "metadata": {},
   "outputs": [],
   "source": [
    "support= rfe.get_support()\n",
    "selected_features = []\n",
    "\n",
    "for bool, feature in zip(support, df.columns):\n",
    "    if bool:\n",
    "        selected_features.append(feature)"
   ]
  },
  {
   "cell_type": "code",
   "execution_count": 58,
   "metadata": {},
   "outputs": [
    {
     "name": "stdout",
     "output_type": "stream",
     "text": [
      "['getCallingUid', 'USE_CREDENTIALS', 'android.telephony.gsm.SmsManager', 'android.intent.action.PACKAGE_REPLACED', 'NFC', 'BIND_REMOTEVIEWS', 'android.intent.action.TIMEZONE_CHANGED', 'Runtime.load', 'sendMultipartTextMessage', 'WRITE_GSERVICES']\n"
     ]
    }
   ],
   "source": [
    "print(selected_features)"
   ]
  },
  {
   "cell_type": "markdown",
   "metadata": {},
   "source": [
    "<div class=\"alert alert-block alert-success\">\n",
    "Now that we have a reduced set of just 10 features selected by RFE without the cross-validation step, we can try running some classifiers and see how they perform.\n",
    "</div>"
   ]
  },
  {
   "cell_type": "code",
   "execution_count": 59,
   "metadata": {},
   "outputs": [],
   "source": [
    "X_train, X_test, y_train, y_test = train_test_split(df[selected_features], y, test_size=0.25)"
   ]
  },
  {
   "cell_type": "code",
   "execution_count": 60,
   "metadata": {},
   "outputs": [
    {
     "name": "stdout",
     "output_type": "stream",
     "text": [
      "LOGISTIC REGRESSION\n",
      "\n",
      "Training data performance:\n",
      "time to train = 0.05\n",
      "Accuracy:  0.6656025538707103 \n",
      "Precision:  0.11158493248045487 \n",
      "Recall:  0.9573170731707317 \n",
      "Confusion matrix:\n",
      " [[2345    7]\n",
      " [1250  157]]\n"
     ]
    }
   ],
   "source": [
    "print(\"LOGISTIC REGRESSION\\n\")\n",
    "print(\"Training data performance:\")\n",
    "logistic_regression = train_logistic_regression(X_train, y_train)\n",
    "evaluate(predict(logistic_regression, X_test), y_test)"
   ]
  },
  {
   "cell_type": "code",
   "execution_count": 61,
   "metadata": {},
   "outputs": [
    {
     "name": "stdout",
     "output_type": "stream",
     "text": [
      "NAIVE BAYES\n",
      "\n",
      "Training data performance:\n",
      "time to train = 0.01\n",
      "Accuracy:  0.6461824953445066 \n",
      "Precision:  0.9893390191897654 \n",
      "Recall:  0.514222386405615 \n",
      "Confusion matrix:\n",
      " [[1037 1315]\n",
      " [  15 1392]]\n"
     ]
    }
   ],
   "source": [
    "print(\"NAIVE BAYES\\n\")\n",
    "print(\"Training data performance:\")\n",
    "naive_bayes = train_naive_bayes(X_train, y_train)\n",
    "evaluate(predict(naive_bayes, X_test), y_test)"
   ]
  },
  {
   "cell_type": "code",
   "execution_count": 62,
   "metadata": {
    "scrolled": true
   },
   "outputs": [
    {
     "name": "stdout",
     "output_type": "stream",
     "text": [
      "DECISION TREE\n",
      "\n",
      "Training data performance:\n",
      "time to train = 0.01\n",
      "Accuracy:  0.6671987230646449 \n",
      "Precision:  0.11158493248045487 \n",
      "Recall:  0.9936708860759493 \n",
      "Confusion matrix:\n",
      " [[2351    1]\n",
      " [1250  157]]\n"
     ]
    }
   ],
   "source": [
    "print(\"DECISION TREE\\n\")\n",
    "print(\"Training data performance:\")\n",
    "decision_tree = train_decision_tree(X_train, y_train)\n",
    "evaluate(predict(decision_tree, X_test), y_test)"
   ]
  },
  {
   "cell_type": "code",
   "execution_count": 63,
   "metadata": {
    "scrolled": true
   },
   "outputs": [
    {
     "name": "stdout",
     "output_type": "stream",
     "text": [
      "RANDOM FOREST\n",
      "\n",
      "Training data performance:\n",
      "time to train = 0.14\n",
      "Accuracy:  0.6669326948656558 \n",
      "Precision:  0.11087420042643924 \n",
      "Recall:  0.9936305732484076 \n",
      "Confusion matrix:\n",
      " [[2351    1]\n",
      " [1251  156]]\n"
     ]
    }
   ],
   "source": [
    "print(\"RANDOM FOREST\\n\")\n",
    "print(\"Training data performance:\")\n",
    "random_forest = train_random_forest(X_train, y_train)\n",
    "evaluate(predict(random_forest, X_test), y_test)"
   ]
  },
  {
   "cell_type": "code",
   "execution_count": 64,
   "metadata": {},
   "outputs": [
    {
     "name": "stdout",
     "output_type": "stream",
     "text": [
      "SUPPORT VECTOR MACHINE\n",
      "\n",
      "Training data performance:\n"
     ]
    },
    {
     "name": "stderr",
     "output_type": "stream",
     "text": [
      "C:\\Users\\Bearson\\Anaconda3\\lib\\site-packages\\sklearn\\svm\\base.py:193: FutureWarning: The default value of gamma will change from 'auto' to 'scale' in version 0.22 to account better for unscaled features. Set gamma explicitly to 'auto' or 'scale' to avoid this warning.\n",
      "  \"avoid this warning.\", FutureWarning)\n"
     ]
    },
    {
     "name": "stdout",
     "output_type": "stream",
     "text": [
      "time to train = 4.47\n",
      "Accuracy:  0.6671987230646449 \n",
      "Precision:  0.11300639658848614 \n",
      "Recall:  0.9814814814814815 \n",
      "Confusion matrix:\n",
      " [[2349    3]\n",
      " [1248  159]]\n"
     ]
    }
   ],
   "source": [
    "print(\"SUPPORT VECTOR MACHINE\\n\")\n",
    "print(\"Training data performance:\")\n",
    "svm = train_svm(X_train, y_train)\n",
    "evaluate(predict(svm, X_test), y_test)"
   ]
  },
  {
   "cell_type": "markdown",
   "metadata": {},
   "source": [
    "<div class=\"alert alert-block alert-success\">\n",
    "The results aren't very promising, especially in terms of accuracy and FPR.\n",
    "<div>"
   ]
  },
  {
   "cell_type": "markdown",
   "metadata": {},
   "source": [
    "<div class=\"alert alert-block alert-success\">\n",
    "At this point we decide try some more sophisticated feature selection and dimensionality reduction with the help of grid search and a couple of new algorithms: principal component analysis, and SelectKBest.\n",
    "    <br>\n",
    "    <br>PCA can be used to reduce a large set of variables to a small set while retaining (most of) the original information. The resulting small set contains the uncorrelated 'principal components' (linear combinations of the original features), where the first component should have the largest possible variance. (Source: https://en.wikipedia.org/wiki/Principal_component_analysis)\n",
    "    <br>\n",
    "    <br>SelectKBest simply chooses the k-best features based on the score of some statistical test. Here, we'll use a chi-squared test.\n",
    "    <br>\n",
    "    <br>To prepare for our grid search, we will prepare a random forest classifier with several options for number of estimators, provide a reduced feature count ranging from 10 all the way to 200, and use 3-fold CV.\n",
    "</div>"
   ]
  },
  {
   "cell_type": "code",
   "execution_count": 65,
   "metadata": {},
   "outputs": [],
   "source": [
    "from sklearn.decomposition import PCA\n",
    "from sklearn.feature_selection import SelectKBest, chi2"
   ]
  },
  {
   "cell_type": "code",
   "execution_count": 67,
   "metadata": {},
   "outputs": [],
   "source": [
    "X = df.drop('class',axis=1)\n",
    "y = df['class']"
   ]
  },
  {
   "cell_type": "code",
   "execution_count": 66,
   "metadata": {},
   "outputs": [],
   "source": [
    "pipeline = Pipeline([\n",
    "    ('dim_reduction', 'passthrough'),\n",
    "    ('classification', RandomForestClassifier())\n",
    "])\n",
    "\n",
    "n_features = [10, 50, 120, 200]\n",
    "estimators = [100, 150, 250]\n",
    "params = [\n",
    "    {\n",
    "        'dim_reduction': [PCA()],\n",
    "        'dim_reduction__n_components': n_features,\n",
    "        'classification__n_estimators': estimators\n",
    "    },\n",
    "    {\n",
    "        'dim_reduction': [SelectKBest(chi2)],\n",
    "        'dim_reduction__k': n_features,\n",
    "        'classification__n_estimators': estimators\n",
    "    },\n",
    "]\n",
    "\n",
    "grid = GridSearchCV(pipeline, param_grid=params, cv=3)"
   ]
  },
  {
   "cell_type": "code",
   "execution_count": 68,
   "metadata": {},
   "outputs": [
    {
     "name": "stdout",
     "output_type": "stream",
     "text": [
      "GridSearchCV fitting complete in:  604.0589122772217\n"
     ]
    }
   ],
   "source": [
    "t0 = time.time()\n",
    "grid.fit(X, y)\n",
    "print(\"GridSearchCV fitting complete in: \", time.time()-t0)"
   ]
  },
  {
   "cell_type": "code",
   "execution_count": 69,
   "metadata": {},
   "outputs": [
    {
     "name": "stdout",
     "output_type": "stream",
     "text": [
      "{'classification__n_estimators': 250, 'dim_reduction': SelectKBest(k=200, score_func=<function chi2 at 0x000001A876665B88>), 'dim_reduction__k': 200}\n"
     ]
    }
   ],
   "source": [
    "print(grid.best_params_)"
   ]
  },
  {
   "cell_type": "markdown",
   "metadata": {},
   "source": [
    "<div class=\"alert alert-block alert-success\">\n",
    "GridSearchCV results show SelectKBest with k = 200 and 250 estimators for the random forest to be the highest-scoring combination. Let's take a look at the overall scores from the entire CV:\n",
    "</div>"
   ]
  },
  {
   "cell_type": "code",
   "execution_count": 70,
   "metadata": {},
   "outputs": [
    {
     "name": "stdout",
     "output_type": "stream",
     "text": [
      "[0.97698856 0.98024741 0.97845172 0.97592445 0.97772014 0.98004789\n",
      " 0.97798617 0.97585794 0.97752062 0.98091248 0.9783187  0.97619048\n",
      " 0.83240223 0.97253259 0.98410482 0.98649907 0.83220271 0.96714552\n",
      " 0.98483639 0.9867651  0.83200319 0.97253259 0.98476989 0.98709763]\n"
     ]
    }
   ],
   "source": [
    "scores = np.array(grid.cv_results_['mean_test_score'])\n",
    "print(scores)"
   ]
  },
  {
   "cell_type": "code",
   "execution_count": 71,
   "metadata": {},
   "outputs": [
    {
     "name": "stdout",
     "output_type": "stream",
     "text": [
      "[[[0.97698856 0.98024741 0.97845172 0.97592445]\n",
      "  [0.97772014 0.98004789 0.97798617 0.97585794]]\n",
      "\n",
      " [[0.97752062 0.98091248 0.9783187  0.97619048]\n",
      "  [0.83240223 0.97253259 0.98410482 0.98649907]]\n",
      "\n",
      " [[0.83220271 0.96714552 0.98483639 0.9867651 ]\n",
      "  [0.83200319 0.97253259 0.98476989 0.98709763]]]\n"
     ]
    }
   ],
   "source": [
    "scores = scores.reshape(len(estimators), -1, len(n_features))\n",
    "print(scores)"
   ]
  },
  {
   "cell_type": "code",
   "execution_count": 72,
   "metadata": {},
   "outputs": [
    {
     "name": "stdout",
     "output_type": "stream",
     "text": [
      "[[0.83220271 0.96714552 0.9783187  0.97592445]\n",
      " [0.83200319 0.97253259 0.97798617 0.97585794]]\n",
      "[[0.97752062 0.98091248 0.98483639 0.9867651 ]\n",
      " [0.97772014 0.98004789 0.98476989 0.98709763]]\n"
     ]
    }
   ],
   "source": [
    "scores_min = scores.min(axis=0)\n",
    "scores_max = scores.max(axis=0)\n",
    "print(scores_min)\n",
    "print(scores_max)"
   ]
  },
  {
   "cell_type": "markdown",
   "metadata": {},
   "source": [
    "<div class=\"alert alert-block alert-success\">\n",
    "The minimum score of 0.83 stands out as being substantially lower than the rest; to be safe we could just use all the minimum scores to compare the results.\n",
    "</div>"
   ]
  },
  {
   "cell_type": "code",
   "execution_count": 73,
   "metadata": {},
   "outputs": [],
   "source": [
    "scores = scores_min"
   ]
  },
  {
   "cell_type": "code",
   "execution_count": 74,
   "metadata": {},
   "outputs": [],
   "source": [
    "dim_reduc_type = ['PCA', 'KBest(chi2)']\n",
    "height = (np.arange(len(n_features)) * (len(dim_reduc_type) + 1) + .5)"
   ]
  },
  {
   "cell_type": "code",
   "execution_count": 75,
   "metadata": {},
   "outputs": [],
   "source": [
    "import matplotlib.pyplot as plt"
   ]
  },
  {
   "cell_type": "code",
   "execution_count": 76,
   "metadata": {},
   "outputs": [
    {
     "name": "stderr",
     "output_type": "stream",
     "text": [
      "C:\\Users\\Bearson\\Anaconda3\\lib\\site-packages\\ipykernel_launcher.py:4: MatplotlibDeprecationWarning: Support for uppercase single-letter colors is deprecated since Matplotlib 3.1 and will be removed in 3.3; please use lowercase instead.\n",
      "  after removing the cwd from sys.path.\n"
     ]
    },
    {
     "data": {
      "image/png": "[encoded data removed]",
      "text/plain": [
       "<Figure size 432x288 with 1 Axes>"
      ]
     },
     "metadata": {
      "needs_background": "light"
     },
     "output_type": "display_data"
    }
   ],
   "source": [
    "plt.figure()\n",
    "colors = 'RB'\n",
    "for i, (name, score) in enumerate(zip(dim_reduc_type, scores)):\n",
    "    plt.bar(height + i, score, label=name, color=colors[i])\n",
    "    \n",
    "plt.title(\"PCA vs KBest(chi2)\")\n",
    "plt.xlabel('No. reduced features')\n",
    "plt.xticks(height + len(dim_reduc_type) / 2, n_features)\n",
    "plt.ylabel('Classification accuracy')\n",
    "plt.ylim((0.80, 1))\n",
    "plt.legend(loc='lower right')\n",
    "\n",
    "plt.show()"
   ]
  },
  {
   "cell_type": "markdown",
   "metadata": {},
   "source": [
    "<div class=\"alert alert-block alert-success\">\n",
    "With just 10 features, the minimum score hovers around 0.83, whereas with 50 features we already see a substantial improvement, and it doesn't improve much more after that. KBest beats out PCA, but only by a little bit.\n",
    "</div>"
   ]
  },
  {
   "cell_type": "markdown",
   "metadata": {},
   "source": [
    "<div class=\"alert alert-block alert-success\">\n",
    "Having visualized the results, let's repeat a SelectKBest with a k of 50 to see which columns are chosen, and see if the other classifiers makes as accurate predictions as the random forest's.\n",
    "</div>"
   ]
  },
  {
   "cell_type": "code",
   "execution_count": 77,
   "metadata": {},
   "outputs": [],
   "source": [
    "X = df.drop('class',axis=1)\n",
    "y = df['class']"
   ]
  },
  {
   "cell_type": "code",
   "execution_count": 78,
   "metadata": {},
   "outputs": [],
   "source": [
    "sel = SelectKBest(chi2, k=50)\n",
    "X_redux = sel.fit_transform(X, y)\n",
    "sel.fit_transform(df.drop('class', axis = 1), y)\n",
    "X_redux_cols = df[df.columns[sel.get_support(indices=True)]].columns"
   ]
  },
  {
   "cell_type": "code",
   "execution_count": 88,
   "metadata": {
    "scrolled": true
   },
   "outputs": [
    {
     "name": "stdout",
     "output_type": "stream",
     "text": [
      "Index(['transact', 'onServiceConnected', 'bindService', 'attachInterface',\n",
      "       'ServiceConnection', 'android.os.Binder', 'SEND_SMS',\n",
      "       'Ljava.lang.Class.getCanonicalName', 'Ljava.lang.Class.getMethods',\n",
      "       'Ljava.lang.Class.cast', 'Ljava.net.URLDecoder',\n",
      "       'android.content.pm.Signature', 'android.telephony.SmsManager',\n",
      "       'READ_PHONE_STATE', 'getBinder', 'ClassLoader',\n",
      "       'Landroid.content.Context.registerReceiver',\n",
      "       'Ljava.lang.Class.getField',\n",
      "       'Landroid.content.Context.unregisterReceiver', 'GET_ACCOUNTS',\n",
      "       'RECEIVE_SMS', 'Ljava.lang.Class.getDeclaredField', 'READ_SMS',\n",
      "       'getCallingUid', 'Ljavax.crypto.spec.SecretKeySpec',\n",
      "       'android.intent.action.BOOT_COMPLETED', 'USE_CREDENTIALS',\n",
      "       'MANAGE_ACCOUNTS', 'KeySpec', 'TelephonyManager.getLine1Number',\n",
      "       'DexClassLoader', 'HttpGet.init', 'SecretKey',\n",
      "       'Ljava.lang.Class.getMethod', 'System.loadLibrary',\n",
      "       'android.intent.action.SEND', 'Ljavax.crypto.Cipher', 'WRITE_SMS',\n",
      "       'READ_SYNC_SETTINGS', 'AUTHENTICATE_ACCOUNTS',\n",
      "       'android.telephony.gsm.SmsManager', 'WRITE_HISTORY_BOOKMARKS',\n",
      "       'TelephonyManager.getSubscriberId', 'INSTALL_PACKAGES', 'CAMERA',\n",
      "       'WRITE_SYNC_SETTINGS', 'READ_HISTORY_BOOKMARKS', 'createSubprocess',\n",
      "       'ACCESS_LOCATION_EXTRA_COMMANDS', 'WRITE_APN_SETTINGS'],\n",
      "      dtype='object')\n"
     ]
    }
   ],
   "source": [
    "len(X_redux_cols)\n",
    "print(X_redux_cols)"
   ]
  },
  {
   "cell_type": "code",
   "execution_count": 80,
   "metadata": {},
   "outputs": [],
   "source": [
    "X_redux = pd.DataFrame(data=X_redux[0:,0:], columns=X_redux_cols[0:])"
   ]
  },
  {
   "cell_type": "code",
   "execution_count": 81,
   "metadata": {},
   "outputs": [],
   "source": [
    "X_train, X_test, y_train, y_test = train_test_split(X_redux, y, test_size=0.25)"
   ]
  },
  {
   "cell_type": "code",
   "execution_count": 82,
   "metadata": {},
   "outputs": [
    {
     "name": "stdout",
     "output_type": "stream",
     "text": [
      "LOGISTIC REGRESSION\n",
      "\n",
      "Training data performance:\n",
      "time to train = 0.35\n",
      "Accuracy:  0.942537909018356 \n",
      "Precision:  0.9082633053221288 \n",
      "Recall:  0.9384949348769899 \n",
      "Confusion matrix:\n",
      " [[2246   85]\n",
      " [ 131 1297]]\n"
     ]
    }
   ],
   "source": [
    "print(\"LOGISTIC REGRESSION\\n\")\n",
    "print(\"Training data performance:\")\n",
    "logistic_regression = train_logistic_regression(X_train, y_train)\n",
    "evaluate(predict(logistic_regression, X_test), y_test)"
   ]
  },
  {
   "cell_type": "code",
   "execution_count": 83,
   "metadata": {},
   "outputs": [
    {
     "name": "stdout",
     "output_type": "stream",
     "text": [
      "NAIVE BAYES\n",
      "\n",
      "Training data performance:\n",
      "time to train = 0.04\n",
      "Accuracy:  0.836658685820697 \n",
      "Precision:  0.9656862745098039 \n",
      "Recall:  0.7093621399176955 \n",
      "Confusion matrix:\n",
      " [[1766  565]\n",
      " [  49 1379]]\n"
     ]
    }
   ],
   "source": [
    "print(\"NAIVE BAYES\\n\")\n",
    "print(\"Training data performance:\")\n",
    "naive_bayes = train_naive_bayes(X_train, y_train)\n",
    "evaluate(predict(naive_bayes, X_test), y_test)"
   ]
  },
  {
   "cell_type": "code",
   "execution_count": 84,
   "metadata": {
    "scrolled": true
   },
   "outputs": [
    {
     "name": "stdout",
     "output_type": "stream",
     "text": [
      "DECISION TREE\n",
      "\n",
      "Training data performance:\n",
      "time to train = 0.11\n",
      "Accuracy:  0.9643522213354616 \n",
      "Precision:  0.9509803921568627 \n",
      "Recall:  0.9549929676511955 \n",
      "Confusion matrix:\n",
      " [[2267   64]\n",
      " [  70 1358]]\n"
     ]
    }
   ],
   "source": [
    "print(\"DECISION TREE\\n\")\n",
    "print(\"Training data performance:\")\n",
    "decision_tree = train_decision_tree(X_train, y_train)\n",
    "evaluate(predict(decision_tree, X_test), y_test)"
   ]
  },
  {
   "cell_type": "code",
   "execution_count": 85,
   "metadata": {},
   "outputs": [],
   "source": [
    "# Just checking RF's performance with n_estimators = 250\n",
    "\n",
    "def train_random_forest(X_train, y_train):\n",
    "    rf = RandomForestClassifier(n_estimators = 250)\n",
    "    t0 = time.time()\n",
    "    rf.fit(X_train, y_train)\n",
    "    print(\"time to train = %.2f\" % (time.time()-t0))\n",
    "    return rf"
   ]
  },
  {
   "cell_type": "code",
   "execution_count": 86,
   "metadata": {
    "scrolled": true
   },
   "outputs": [
    {
     "name": "stdout",
     "output_type": "stream",
     "text": [
      "RANDOM FOREST\n",
      "\n",
      "Training data performance:\n",
      "time to train = 3.31\n",
      "Accuracy:  0.9731311519021016 \n",
      "Precision:  0.9537815126050421 \n",
      "Recall:  0.9749463135289907 \n",
      "Confusion matrix:\n",
      " [[2296   35]\n",
      " [  66 1362]]\n"
     ]
    }
   ],
   "source": [
    "print(\"RANDOM FOREST\\n\")\n",
    "print(\"Training data performance:\")\n",
    "random_forest = train_random_forest(X_train, y_train)\n",
    "evaluate(predict(random_forest, X_test), y_test)"
   ]
  },
  {
   "cell_type": "code",
   "execution_count": 87,
   "metadata": {},
   "outputs": [
    {
     "name": "stdout",
     "output_type": "stream",
     "text": [
      "SUPPORT VECTOR MACHINE\n",
      "\n",
      "Training data performance:\n"
     ]
    },
    {
     "name": "stderr",
     "output_type": "stream",
     "text": [
      "C:\\Users\\Bearson\\Anaconda3\\lib\\site-packages\\sklearn\\svm\\base.py:193: FutureWarning: The default value of gamma will change from 'auto' to 'scale' in version 0.22 to account better for unscaled features. Set gamma explicitly to 'auto' or 'scale' to avoid this warning.\n",
      "  \"avoid this warning.\", FutureWarning)\n"
     ]
    },
    {
     "name": "stdout",
     "output_type": "stream",
     "text": [
      "time to train = 4.09\n",
      "Accuracy:  0.9462623038042033 \n",
      "Precision:  0.8907563025210085 \n",
      "Recall:  0.9650986342943855 \n",
      "Confusion matrix:\n",
      " [[2285   46]\n",
      " [ 156 1272]]\n"
     ]
    }
   ],
   "source": [
    "print(\"SUPPORT VECTOR MACHINE\\n\")\n",
    "print(\"Training data performance:\")\n",
    "svm = train_svm(X_train, y_train)\n",
    "evaluate(predict(svm, X_test), y_test)"
   ]
  },
  {
   "cell_type": "markdown",
   "metadata": {},
   "source": [
    "<div class=\"alert alert-block alert-success\">\n",
    "The accuracy scores, as expected, are high, but the precision still leaves something to be desired. In all likelihood, a higher number of features can improve the precision score.\n",
    "</div>"
   ]
  },
  {
   "cell_type": "code",
   "execution_count": 123,
   "metadata": {},
   "outputs": [],
   "source": [
    "X = df.drop('class', axis=1)\n",
    "y = df['class']"
   ]
  },
  {
   "cell_type": "code",
   "execution_count": 127,
   "metadata": {},
   "outputs": [],
   "source": [
    "sel = SelectKBest(chi2, k=200)\n",
    "X_large = sel.fit_transform(X, y)\n",
    "sel.fit_transform(df.drop('class', axis = 1), y)\n",
    "X_large_cols = df[df.columns[sel.get_support(indices=True)]].columns"
   ]
  },
  {
   "cell_type": "code",
   "execution_count": 130,
   "metadata": {
    "scrolled": true
   },
   "outputs": [
    {
     "name": "stdout",
     "output_type": "stream",
     "text": [
      "200\n",
      "Index(['transact', 'onServiceConnected', 'bindService', 'attachInterface',\n",
      "       'ServiceConnection', 'android.os.Binder', 'SEND_SMS',\n",
      "       'Ljava.lang.Class.getCanonicalName', 'Ljava.lang.Class.getMethods',\n",
      "       'Ljava.lang.Class.cast',\n",
      "       ...\n",
      "       'Runtime.loadLibrary', 'BROADCAST_SMS', 'EXPAND_STATUS_BAR',\n",
      "       'INTERNAL_SYSTEM_WINDOW', 'android.intent.action.BATTERY_LOW',\n",
      "       'SET_ACTIVITY_WATCHER', 'WRITE_CONTACTS',\n",
      "       'android.intent.action.ACTION_POWER_CONNECTED', 'DISABLE_KEYGUARD',\n",
      "       'ACCESS_MOCK_LOCATION'],\n",
      "      dtype='object', length=200)\n"
     ]
    }
   ],
   "source": [
    "print(len(X_large_cols))\n",
    "print(X_large_cols)"
   ]
  },
  {
   "cell_type": "code",
   "execution_count": 129,
   "metadata": {},
   "outputs": [],
   "source": [
    "X_large = pd.DataFrame(data=X_large[0:,0:], columns=X_large_cols[0:])"
   ]
  },
  {
   "cell_type": "code",
   "execution_count": 131,
   "metadata": {},
   "outputs": [],
   "source": [
    "X_train, X_test, y_train, y_test = train_test_split(X_large, y, test_size=0.25)"
   ]
  },
  {
   "cell_type": "code",
   "execution_count": 132,
   "metadata": {},
   "outputs": [
    {
     "name": "stdout",
     "output_type": "stream",
     "text": [
      "LOGISTIC REGRESSION\n",
      "\n",
      "Training data performance:\n",
      "time to train = 0.67\n",
      "Accuracy:  0.9760574620909817 \n",
      "Precision:  0.9593908629441624 \n",
      "Recall:  0.9749447310243183 \n",
      "Confusion matrix:\n",
      " [[2346   34]\n",
      " [  56 1323]]\n"
     ]
    }
   ],
   "source": [
    "print(\"LOGISTIC REGRESSION\\n\")\n",
    "print(\"Training data performance:\")\n",
    "logistic_regression = train_logistic_regression(X_train, y_train)\n",
    "evaluate(predict(logistic_regression, X_test), y_test)"
   ]
  },
  {
   "cell_type": "code",
   "execution_count": 133,
   "metadata": {},
   "outputs": [
    {
     "name": "stdout",
     "output_type": "stream",
     "text": [
      "NAIVE BAYES\n",
      "\n",
      "Training data performance:\n",
      "time to train = 0.10\n",
      "Accuracy:  0.6951316839584996 \n",
      "Precision:  0.981145757795504 \n",
      "Recall:  0.5471087747674889 \n",
      "Confusion matrix:\n",
      " [[1260 1120]\n",
      " [  26 1353]]\n"
     ]
    }
   ],
   "source": [
    "print(\"NAIVE BAYES\\n\")\n",
    "print(\"Training data performance:\")\n",
    "naive_bayes = train_naive_bayes(X_train, y_train)\n",
    "evaluate(predict(naive_bayes, X_test), y_test)"
   ]
  },
  {
   "cell_type": "code",
   "execution_count": 134,
   "metadata": {
    "scrolled": true
   },
   "outputs": [
    {
     "name": "stdout",
     "output_type": "stream",
     "text": [
      "DECISION TREE\n",
      "\n",
      "Training data performance:\n",
      "time to train = 0.37\n",
      "Accuracy:  0.9744612928970471 \n",
      "Precision:  0.9724437998549673 \n",
      "Recall:  0.958541815582559 \n",
      "Confusion matrix:\n",
      " [[2322   58]\n",
      " [  38 1341]]\n"
     ]
    }
   ],
   "source": [
    "print(\"DECISION TREE\\n\")\n",
    "print(\"Training data performance:\")\n",
    "decision_tree = train_decision_tree(X_train, y_train)\n",
    "evaluate(predict(decision_tree, X_test), y_test)"
   ]
  },
  {
   "cell_type": "code",
   "execution_count": 135,
   "metadata": {
    "scrolled": true
   },
   "outputs": [
    {
     "name": "stdout",
     "output_type": "stream",
     "text": [
      "RANDOM FOREST\n",
      "\n",
      "Training data performance:\n",
      "time to train = 5.94\n",
      "Accuracy:  0.9869646182495344 \n",
      "Precision:  0.9731689630166788 \n",
      "Recall:  0.9911373707533235 \n",
      "Confusion matrix:\n",
      " [[2368   12]\n",
      " [  37 1342]]\n"
     ]
    }
   ],
   "source": [
    "print(\"RANDOM FOREST\\n\")\n",
    "print(\"Training data performance:\")\n",
    "random_forest = train_random_forest(X_train, y_train)\n",
    "evaluate(predict(random_forest, X_test), y_test)"
   ]
  },
  {
   "cell_type": "code",
   "execution_count": 136,
   "metadata": {},
   "outputs": [
    {
     "name": "stdout",
     "output_type": "stream",
     "text": [
      "SUPPORT VECTOR MACHINE\n",
      "\n",
      "Training data performance:\n"
     ]
    },
    {
     "name": "stderr",
     "output_type": "stream",
     "text": [
      "C:\\Users\\Bearson\\Anaconda3\\lib\\site-packages\\sklearn\\svm\\base.py:193: FutureWarning: The default value of gamma will change from 'auto' to 'scale' in version 0.22 to account better for unscaled features. Set gamma explicitly to 'auto' or 'scale' to avoid this warning.\n",
      "  \"avoid this warning.\", FutureWarning)\n"
     ]
    },
    {
     "name": "stdout",
     "output_type": "stream",
     "text": [
      "time to train = 9.77\n",
      "Accuracy:  0.9683426443202979 \n",
      "Precision:  0.9347353154459753 \n",
      "Recall:  0.9779969650986343 \n",
      "Confusion matrix:\n",
      " [[2351   29]\n",
      " [  90 1289]]\n"
     ]
    }
   ],
   "source": [
    "print(\"SUPPORT VECTOR MACHINE\\n\")\n",
    "print(\"Training data performance:\")\n",
    "svm = train_svm(X_train, y_train)\n",
    "evaluate(predict(svm, X_test), y_test)"
   ]
  },
  {
   "cell_type": "markdown",
   "metadata": {},
   "source": [
    "<div class=\"alert alert-block alert-success\">\n",
    "Our hypothesis seems to be correct. Perhaps it is worth training nearly all of the features together at the same time!\n",
    "</div>"
   ]
  },
  {
   "cell_type": "markdown",
   "metadata": {},
   "source": [
    "<div class=\"alert alert-block alert-success\">\n",
    "Finally, let's do some clustering on the data to see how well malware instances cluster together.\n",
    "</div>"
   ]
  },
  {
   "cell_type": "code",
   "execution_count": 89,
   "metadata": {},
   "outputs": [],
   "source": [
    "from sklearn.cluster import AgglomerativeClustering, DBSCAN"
   ]
  },
  {
   "cell_type": "code",
   "execution_count": 90,
   "metadata": {},
   "outputs": [],
   "source": [
    "from sklearn.metrics import (\n",
    "    homogeneity_score,\n",
    "    completeness_score,\n",
    "    v_measure_score\n",
    ")"
   ]
  },
  {
   "cell_type": "markdown",
   "metadata": {},
   "source": [
    "<div class=\"alert alert-block alert-success\">\n",
    "Feature selection for clustering proved to be quite a challenge. We started with large subsets of features but got poor results, and we eventually settled on a subset of just 3 features which we previously saw to have fairly high variance.\n",
    "</div>"
   ]
  },
  {
   "cell_type": "code",
   "execution_count": 104,
   "metadata": {},
   "outputs": [
    {
     "name": "stdout",
     "output_type": "stream",
     "text": [
      "['getCallingUid', 'USE_CREDENTIALS', 'android.telephony.gsm.SmsManager', 'android.intent.action.PACKAGE_REPLACED', 'NFC', 'BIND_REMOTEVIEWS', 'android.intent.action.TIMEZONE_CHANGED', 'Runtime.load', 'sendMultipartTextMessage', 'WRITE_GSERVICES']\n",
      "Index(['transact', 'onServiceConnected', 'bindService', 'attachInterface',\n",
      "       'ServiceConnection', 'android.os.Binder', 'Ljava.net.URLDecoder',\n",
      "       'android.content.pm.Signature', 'READ_PHONE_STATE', 'ClassLoader',\n",
      "       'Landroid.content.Context.registerReceiver',\n",
      "       'Ljava.lang.Class.getField',\n",
      "       'Landroid.content.Context.unregisterReceiver',\n",
      "       'Ljava.lang.Class.getDeclaredField', 'Ljavax.crypto.spec.SecretKeySpec',\n",
      "       'android.intent.action.BOOT_COMPLETED', 'KeySpec', 'HttpGet.init',\n",
      "       'SecretKey', 'Ljava.lang.Class.getMethod', 'System.loadLibrary',\n",
      "       'Ljavax.crypto.Cipher', 'mount', 'Runtime.getRuntime',\n",
      "       'Ljava.lang.Class.forName', 'TelephonyManager.getDeviceId', 'WAKE_LOCK',\n",
      "       'RECEIVE_BOOT_COMPLETED', 'VIBRATE', 'HttpPost.init', 'HttpUriRequest',\n",
      "       'TelephonyManager.getNetworkOperator', 'Ljava.lang.Class.getResource',\n",
      "       'ACCESS_WIFI_STATE'],\n",
      "      dtype='object')\n"
     ]
    }
   ],
   "source": [
    "print(selected_features)\n",
    "print(X_cols)"
   ]
  },
  {
   "cell_type": "code",
   "execution_count": 105,
   "metadata": {},
   "outputs": [
    {
     "name": "stdout",
     "output_type": "stream",
     "text": [
      "time to train:  9.67254900932312\n"
     ]
    }
   ],
   "source": [
    "t0 = time.time()\n",
    "agglom = AgglomerativeClustering(n_clusters=2, affinity='jaccard', linkage='complete').fit(df[['transact', 'android.telephony.gsm.SmsManager', 'onServiceConnected']])\n",
    "print(\"time to train: \", time.time() - t0)"
   ]
  },
  {
   "cell_type": "code",
   "execution_count": 106,
   "metadata": {},
   "outputs": [
    {
     "data": {
      "text/plain": [
       "array([0, 0, 0, ..., 0, 1, 1], dtype=int64)"
      ]
     },
     "execution_count": 106,
     "metadata": {},
     "output_type": "execute_result"
    }
   ],
   "source": [
    "agglom.labels_"
   ]
  },
  {
   "cell_type": "code",
   "execution_count": 107,
   "metadata": {},
   "outputs": [],
   "source": [
    "df['agglom_cluster'] = agglom.labels_"
   ]
  },
  {
   "cell_type": "code",
   "execution_count": 108,
   "metadata": {},
   "outputs": [
    {
     "data": {
      "text/plain": [
       "class  agglom_cluster\n",
       "0      0                 3439\n",
       "       1                 6037\n",
       "1      0                 5340\n",
       "       1                  220\n",
       "dtype: int64"
      ]
     },
     "execution_count": 108,
     "metadata": {},
     "output_type": "execute_result"
    }
   ],
   "source": [
    "df.groupby(['class', 'agglom_cluster']).size()"
   ]
  },
  {
   "cell_type": "code",
   "execution_count": 109,
   "metadata": {},
   "outputs": [],
   "source": [
    "pred_clusters = df['agglom_cluster'].values\n",
    "true_labels = df['class'].values"
   ]
  },
  {
   "cell_type": "code",
   "execution_count": 110,
   "metadata": {},
   "outputs": [
    {
     "name": "stdout",
     "output_type": "stream",
     "text": [
      "0.3105099867697438\n",
      "0.3012837726023688\n",
      "0.30582731128448454\n"
     ]
    }
   ],
   "source": [
    "print(homogeneity_score(true_labels, pred_clusters))\n",
    "print(completeness_score(true_labels, pred_clusters))\n",
    "print(v_measure_score(true_labels, pred_clusters))"
   ]
  },
  {
   "cell_type": "code",
   "execution_count": 111,
   "metadata": {},
   "outputs": [
    {
     "name": "stdout",
     "output_type": "stream",
     "text": [
      "time to train:  4.3431079387664795\n"
     ]
    }
   ],
   "source": [
    "t0 = time.time()\n",
    "dbscan = DBSCAN(eps=0.1, min_samples=20, metric='jaccard').fit(df[['transact', 'android.telephony.gsm.SmsManager', 'onServiceConnected']])\n",
    "print(\"time to train: \", time.time() - t0)"
   ]
  },
  {
   "cell_type": "code",
   "execution_count": 112,
   "metadata": {},
   "outputs": [
    {
     "data": {
      "text/plain": [
       "array([0, 0, 0, ..., 0, 5, 5], dtype=int64)"
      ]
     },
     "execution_count": 112,
     "metadata": {},
     "output_type": "execute_result"
    }
   ],
   "source": [
    "dbscan.labels_"
   ]
  },
  {
   "cell_type": "code",
   "execution_count": 113,
   "metadata": {},
   "outputs": [],
   "source": [
    "df['dbscan_cluster'] = dbscan.labels_"
   ]
  },
  {
   "cell_type": "code",
   "execution_count": 114,
   "metadata": {},
   "outputs": [
    {
     "data": {
      "text/plain": [
       "class  dbscan_cluster\n",
       "0      -1                   6\n",
       "        0                2809\n",
       "        1                 570\n",
       "        2                   3\n",
       "        3                 404\n",
       "        4                  48\n",
       "        5                5633\n",
       "        6                   3\n",
       "1      -1                   1\n",
       "        0                4457\n",
       "        1                 277\n",
       "        2                 501\n",
       "        3                 116\n",
       "        4                  76\n",
       "        5                 104\n",
       "        6                  28\n",
       "dtype: int64"
      ]
     },
     "execution_count": 114,
     "metadata": {},
     "output_type": "execute_result"
    }
   ],
   "source": [
    "df.groupby(['class', 'dbscan_cluster']).size()"
   ]
  },
  {
   "cell_type": "code",
   "execution_count": 115,
   "metadata": {},
   "outputs": [],
   "source": [
    "pred_clusters = df['dbscan_cluster'].values\n",
    "true_labels = df['class'].values"
   ]
  },
  {
   "cell_type": "code",
   "execution_count": 116,
   "metadata": {},
   "outputs": [
    {
     "name": "stdout",
     "output_type": "stream",
     "text": [
      "0.36472559517679143\n",
      "0.20588009977611746\n",
      "0.2631931037144614\n"
     ]
    }
   ],
   "source": [
    "print(homogeneity_score(true_labels, pred_clusters))\n",
    "print(completeness_score(true_labels, pred_clusters))\n",
    "print(v_measure_score(true_labels, pred_clusters))"
   ]
  },
  {
   "cell_type": "markdown",
   "metadata": {},
   "source": [
    "<div class=\"alert alert-block alert-success\">\n",
    "Malware instances seem to share clusters with non-malware instances a lot of the time. DBSCAN seems to have produced a couple of relatively homogenous ones, however (2 and 5).\n",
    "</div>"
   ]
  },
  {
   "cell_type": "markdown",
   "metadata": {},
   "source": [
    "<div class=\"alert alert-block alert-success\">\n",
    "This is the end of the second notebook! Thank you again for sticking with us.\n",
    "</div>"
   ]
  }
 ],
 "metadata": {
  "kernelspec": {
   "display_name": "Python 3",
   "language": "python",
   "name": "python3"
  },
  "language_info": {
   "codemirror_mode": {
    "name": "ipython",
    "version": 3
   },
   "file_extension": ".py",
   "mimetype": "text/x-python",
   "name": "python",
   "nbconvert_exporter": "python",
   "pygments_lexer": "ipython3",
   "version": "3.7.4"
  }
 },
 "nbformat": 4,
 "nbformat_minor": 2
}
